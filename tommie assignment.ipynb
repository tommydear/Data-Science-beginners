{
 "cells": [
  {
   "cell_type": "markdown",
   "id": "de4e5920",
   "metadata": {},
   "source": [
    "# String Methods"
   ]
  },
  {
   "cell_type": "code",
   "execution_count": 5,
   "id": "16befa32",
   "metadata": {},
   "outputs": [],
   "source": [
    "#center(width[, fillchar])\n"
   ]
  },
  {
   "cell_type": "code",
   "execution_count": 7,
   "id": "ee9c7460",
   "metadata": {},
   "outputs": [
    {
     "name": "stdout",
     "output_type": "stream",
     "text": [
      "--comrade---\n"
     ]
    }
   ],
   "source": [
    "xc = \"comrade\" \n",
    "fg = xc.center(12, \"-\")\n",
    "print(fg)"
   ]
  },
  {
   "cell_type": "code",
   "execution_count": 9,
   "id": "c9d52fc0",
   "metadata": {},
   "outputs": [],
   "source": [
    "#encode(encoding=\"utf-8\", errors=\"strict\")"
   ]
  },
  {
   "cell_type": "code",
   "execution_count": 12,
   "id": "131d11fd",
   "metadata": {},
   "outputs": [
    {
     "name": "stdout",
     "output_type": "stream",
     "text": [
      "comrade\n",
      "b'Y29tcmFkZQ=='\n"
     ]
    }
   ],
   "source": [
    "from base64 import b64encode\n",
    "\n",
    "g = \"comrade\"\n",
    "print(g)\n",
    "g = b64encode(g.encode())\n",
    "print(g)"
   ]
  },
  {
   "cell_type": "code",
   "execution_count": 11,
   "id": "bfde43e9",
   "metadata": {},
   "outputs": [],
   "source": [
    "#endswith(suffix[, start[, end]])"
   ]
  },
  {
   "cell_type": "code",
   "execution_count": 14,
   "id": "08f06255",
   "metadata": {},
   "outputs": [
    {
     "name": "stdout",
     "output_type": "stream",
     "text": [
      "True\n",
      "True\n",
      "False\n",
      "False\n"
     ]
    }
   ],
   "source": [
    "a = \"comrade\"\n",
    "print(a.endswith(\"e\"))\n",
    "print(a.endswith(\"ade\"))\n",
    "print(a.endswith(\"r\"))\n",
    "print(a.endswith(\"de\", 1, 3))"
   ]
  },
  {
   "cell_type": "code",
   "execution_count": 15,
   "id": "302b0dd0",
   "metadata": {},
   "outputs": [],
   "source": [
    "#find(sub[, start[, end]])"
   ]
  },
  {
   "cell_type": "code",
   "execution_count": 16,
   "id": "68885a7a",
   "metadata": {},
   "outputs": [
    {
     "name": "stdout",
     "output_type": "stream",
     "text": [
      "0\n",
      "-1\n",
      "4\n",
      "3\n",
      "5\n",
      "0\n",
      "-1\n"
     ]
    }
   ],
   "source": [
    "a = \"comrade\"\n",
    "print(a.find(\"c\"))\n",
    "print(a.find(\"y\"))\n",
    "print(a.find(\"a\"))\n",
    "print(a.find(\"rade\"))\n",
    "print(a.find(\"de\"))\n",
    "print(a.find(\"c\"))\n",
    "print(a.find(\"sink\"))"
   ]
  },
  {
   "cell_type": "code",
   "execution_count": 20,
   "id": "d7a70fba",
   "metadata": {},
   "outputs": [],
   "source": [
    "#format(*args, **kwargs)"
   ]
  },
  {
   "cell_type": "code",
   "execution_count": 21,
   "id": "22cb1b5d",
   "metadata": {},
   "outputs": [
    {
     "name": "stdout",
     "output_type": "stream",
     "text": [
      "yam and egg\n",
      "stew and potato\n",
      "fish and banana\n",
      "9, 8, 7\n",
      "Lunch: indomie, fanta\n"
     ]
    }
   ],
   "source": [
    "# Example 1\n",
    "print(\"{} and {}\".format(\"yam\", \"egg\"))\n",
    "\n",
    "# Example 2\n",
    "print(\"{1} and {0}\".format(\"potato\", \"stew\"))\n",
    "\n",
    "# Example 3\n",
    "print(\"{lunch} and {dinner}\".format(lunch=\"fish\", dinner=\"banana\"))\n",
    "\n",
    "# Example 4\n",
    "print(\"{0}, {1}, {2}\".format(*\"987\"))\n",
    "\n",
    "# Example 5\n",
    "lunch = {\"food\": \"indomie\", \"drink\": \"fanta\"}\n",
    "print(\"Lunch: {food}, {drink}\".format(**lunch))"
   ]
  },
  {
   "cell_type": "code",
   "execution_count": 22,
   "id": "aa34b05f",
   "metadata": {},
   "outputs": [],
   "source": [
    "#index(sub[, start[, end]])"
   ]
  },
  {
   "cell_type": "code",
   "execution_count": 23,
   "id": "cf98a75b",
   "metadata": {},
   "outputs": [
    {
     "name": "stdout",
     "output_type": "stream",
     "text": [
      "4\n",
      "2\n",
      "3\n",
      "5\n"
     ]
    },
    {
     "ename": "ValueError",
     "evalue": "substring not found",
     "output_type": "error",
     "traceback": [
      "\u001b[1;31m---------------------------------------------------------------------------\u001b[0m",
      "\u001b[1;31mValueError\u001b[0m                                Traceback (most recent call last)",
      "\u001b[1;32mC:\\Users\\DECOME~1\\AppData\\Local\\Temp/ipykernel_11652/85023664.py\u001b[0m in \u001b[0;36m<module>\u001b[1;34m\u001b[0m\n\u001b[0;32m      4\u001b[0m \u001b[0mprint\u001b[0m\u001b[1;33m(\u001b[0m\u001b[0ma\u001b[0m\u001b[1;33m.\u001b[0m\u001b[0mindex\u001b[0m\u001b[1;33m(\u001b[0m\u001b[1;34m\"rade\"\u001b[0m\u001b[1;33m)\u001b[0m\u001b[1;33m)\u001b[0m\u001b[1;33m\u001b[0m\u001b[1;33m\u001b[0m\u001b[0m\n\u001b[0;32m      5\u001b[0m \u001b[0mprint\u001b[0m\u001b[1;33m(\u001b[0m\u001b[0ma\u001b[0m\u001b[1;33m.\u001b[0m\u001b[0mindex\u001b[0m\u001b[1;33m(\u001b[0m\u001b[1;34m\"de\"\u001b[0m\u001b[1;33m)\u001b[0m\u001b[1;33m)\u001b[0m\u001b[1;33m\u001b[0m\u001b[1;33m\u001b[0m\u001b[0m\n\u001b[1;32m----> 6\u001b[1;33m \u001b[0mprint\u001b[0m\u001b[1;33m(\u001b[0m\u001b[0ma\u001b[0m\u001b[1;33m.\u001b[0m\u001b[0mindex\u001b[0m\u001b[1;33m(\u001b[0m\u001b[1;34m\"z\"\u001b[0m\u001b[1;33m)\u001b[0m\u001b[1;33m)\u001b[0m   \u001b[1;31m#Error\u001b[0m\u001b[1;33m\u001b[0m\u001b[1;33m\u001b[0m\u001b[0m\n\u001b[0m",
      "\u001b[1;31mValueError\u001b[0m: substring not found"
     ]
    }
   ],
   "source": [
    "a = \"comrade\"\n",
    "print(a.index(\"a\"))\n",
    "print(a.index(\"mr\"))\n",
    "print(a.index(\"rade\"))\n",
    "print(a.index(\"de\"))\n",
    "print(a.index(\"z\"))   #Error"
   ]
  },
  {
   "cell_type": "code",
   "execution_count": 24,
   "id": "65d33fb6",
   "metadata": {},
   "outputs": [],
   "source": [
    "#isalnum()"
   ]
  },
  {
   "cell_type": "code",
   "execution_count": 29,
   "id": "d0831a10",
   "metadata": {},
   "outputs": [
    {
     "name": "stdout",
     "output_type": "stream",
     "text": [
      "True\n",
      "True\n",
      "False\n",
      "False\n",
      "False\n"
     ]
    }
   ],
   "source": [
    "c = \"comrade\"\n",
    "print(c.isalnum())\n",
    "\n",
    "c = \"123\"\n",
    "print(c.isalnum())\n",
    "\n",
    "c = \"1.23\"\n",
    "print(c.isalnum())\n",
    "\n",
    "c = \"$*%!!!\"\n",
    "print(c.isalnum())\n",
    "\n",
    "c = \"0.34j\"\n",
    "print(c.isalnum())"
   ]
  },
  {
   "cell_type": "code",
   "execution_count": 30,
   "id": "209c5ce1",
   "metadata": {},
   "outputs": [],
   "source": [
    "#isalpha()"
   ]
  },
  {
   "cell_type": "code",
   "execution_count": 31,
   "id": "18b9229e",
   "metadata": {},
   "outputs": [
    {
     "name": "stdout",
     "output_type": "stream",
     "text": [
      "True\n",
      "False\n",
      "False\n"
     ]
    }
   ],
   "source": [
    "c = \"comrade\"\n",
    "print(c.isalpha())\n",
    "\n",
    "c = \"123\"\n",
    "print(c.isalpha())\n",
    "\n",
    "c = \"$*%!!!\"\n",
    "print(c.isalpha())"
   ]
  },
  {
   "cell_type": "code",
   "execution_count": 32,
   "id": "a91758bd",
   "metadata": {},
   "outputs": [],
   "source": [
    "#isdecimal()"
   ]
  },
  {
   "cell_type": "code",
   "execution_count": 33,
   "id": "ed7852ed",
   "metadata": {},
   "outputs": [
    {
     "name": "stdout",
     "output_type": "stream",
     "text": [
      "True\n",
      "False\n",
      "False\n",
      "False\n",
      "False\n",
      "False\n"
     ]
    }
   ],
   "source": [
    "c = \"123\"\n",
    "print(c.isdecimal())\n",
    "\n",
    "c = u\"\\u00B2\"\n",
    "print(c.isdecimal())\n",
    "\n",
    "c = \"1.23\"\n",
    "print(c.isdecimal())\n",
    "\n",
    "c = \"u123\"\n",
    "print(c.isdecimal())\n",
    "\n",
    "c = \"Fitness\"\n",
    "print(c.isdecimal())\n",
    "\n",
    "c = \"$*%!!!\"\n",
    "print(c.isdecimal())"
   ]
  },
  {
   "cell_type": "code",
   "execution_count": 34,
   "id": "cabf6d1e",
   "metadata": {},
   "outputs": [],
   "source": [
    "#isdigit()"
   ]
  },
  {
   "cell_type": "code",
   "execution_count": 35,
   "id": "691460c9",
   "metadata": {},
   "outputs": [
    {
     "name": "stdout",
     "output_type": "stream",
     "text": [
      "True\n",
      "True\n",
      "False\n",
      "False\n",
      "False\n",
      "False\n"
     ]
    }
   ],
   "source": [
    "c = \"123\"\n",
    "print(c.isdigit())\n",
    "\n",
    "c = u\"\\u00B2\"\n",
    "print(c.isdigit())\n",
    "\n",
    "c = \"1.23\"\n",
    "print(c.isdigit())\n",
    "\n",
    "c = \"u123\"\n",
    "print(c.isdigit())\n",
    "\n",
    "c = \"Fitness\"\n",
    "print(c.isdigit())\n",
    "\n",
    "c = \"$*%!!!\"\n",
    "print(c.isdigit())"
   ]
  },
  {
   "cell_type": "code",
   "execution_count": 36,
   "id": "43a9cb66",
   "metadata": {},
   "outputs": [],
   "source": [
    "#isidentifier()"
   ]
  },
  {
   "cell_type": "code",
   "execution_count": 37,
   "id": "93b3f3d0",
   "metadata": {},
   "outputs": [
    {
     "name": "stdout",
     "output_type": "stream",
     "text": [
      "False\n",
      "True\n",
      "False\n",
      "True\n",
      "True\n"
     ]
    }
   ],
   "source": [
    "a = \"123\"\n",
    "print(a.isidentifier())\n",
    "\n",
    "a = \"_user_123\"\n",
    "print(a.isidentifier())\n",
    "\n",
    "a = \"_user-123\"\n",
    "print(a.isidentifier())\n",
    "\n",
    "a = \"Homer\"\n",
    "print(a.isidentifier())\n",
    "\n",
    "a = \"for\"\n",
    "print(a.isidentifier())"
   ]
  },
  {
   "cell_type": "code",
   "execution_count": 38,
   "id": "97cbc61e",
   "metadata": {},
   "outputs": [],
   "source": [
    "#islower()"
   ]
  },
  {
   "cell_type": "code",
   "execution_count": 40,
   "id": "3b87d67d",
   "metadata": {},
   "outputs": [
    {
     "name": "stdout",
     "output_type": "stream",
     "text": [
      "False\n",
      "False\n",
      "True\n",
      "False\n",
      "False\n",
      "True\n",
      "True\n"
     ]
    }
   ],
   "source": [
    "a = \" \"\n",
    "print(a.islower())\n",
    "\n",
    "a = \"123\"\n",
    "print(a.islower())\n",
    "\n",
    "a = \"_user_123\"\n",
    "print(a.islower())\n",
    "\n",
    "a = \"Show\"\n",
    "print(a.islower())\n",
    "\n",
    "a = \"SHOW\"\n",
    "print(a.islower())\n",
    "\n",
    "a = \"show\"\n",
    "print(a.islower())\n",
    "\n",
    "a = \"SHOW\"\n",
    "a = a.casefold() #Force lowercase\n",
    "print(a.islower())"
   ]
  },
  {
   "cell_type": "code",
   "execution_count": 41,
   "id": "ec06db43",
   "metadata": {},
   "outputs": [],
   "source": [
    "#isprintable()"
   ]
  },
  {
   "cell_type": "code",
   "execution_count": 42,
   "id": "e485a000",
   "metadata": {},
   "outputs": [
    {
     "name": "stdout",
     "output_type": "stream",
     "text": [
      "True\n",
      "True\n",
      "True\n",
      "True\n",
      "False\n",
      "False\n",
      "False\n"
     ]
    }
   ],
   "source": [
    "a = \"\"\n",
    "print(a.isprintable())\n",
    "\n",
    "a = \" \"\n",
    "print(a.isprintable())\n",
    "\n",
    "a = u\"\\u00B2\"\n",
    "print(a.isprintable())\n",
    "\n",
    "a = \"Bart\"\n",
    "print(a.isprintable())\n",
    "\n",
    "a = \"\\t\"\n",
    "print(a.isprintable())\n",
    "\n",
    "a = \"\\r\\n\"\n",
    "print(a.isprintable())\n",
    "\n",
    "a = \"Bart \\r\"\n",
    "print(a.isprintable())"
   ]
  },
  {
   "cell_type": "code",
   "execution_count": 43,
   "id": "a537f933",
   "metadata": {},
   "outputs": [],
   "source": [
    "#isspace()"
   ]
  },
  {
   "cell_type": "code",
   "execution_count": 44,
   "id": "352507bc",
   "metadata": {},
   "outputs": [
    {
     "name": "stdout",
     "output_type": "stream",
     "text": [
      "False\n",
      "True\n",
      "False\n",
      "True\n",
      "True\n",
      "False\n"
     ]
    }
   ],
   "source": [
    "a = \"\"\n",
    "print(a.isspace())\n",
    "\n",
    "a = \" \"\n",
    "print(a.isspace())\n",
    "\n",
    "a = \"Bart\"\n",
    "print(a.isspace())\n",
    "\n",
    "a = \"\\t\"\n",
    "print(a.isspace())\n",
    "\n",
    "a = \"\\r\\n\"\n",
    "print(a.isspace())\n",
    "\n",
    "a = \"Bart \\r\"\n",
    "print(a.isspace())"
   ]
  },
  {
   "cell_type": "code",
   "execution_count": 45,
   "id": "d4e16ecb",
   "metadata": {},
   "outputs": [],
   "source": [
    "#istitle()"
   ]
  },
  {
   "cell_type": "code",
   "execution_count": 46,
   "id": "83b317d9",
   "metadata": {},
   "outputs": [
    {
     "name": "stdout",
     "output_type": "stream",
     "text": [
      "False\n",
      "False\n",
      "False\n",
      "True\n",
      "True\n",
      "False\n",
      "True\n",
      "True\n"
     ]
    }
   ],
   "source": [
    "a = \"\"\n",
    "print(a.istitle())\n",
    "\n",
    "a = \" \"\n",
    "print(a.istitle())\n",
    "\n",
    "a = \" t\"\n",
    "print(a.istitle())\n",
    "\n",
    "a = \" T\"\n",
    "print(a.istitle())\n",
    "\n",
    "a = \"Tea\"\n",
    "print(a.istitle())\n",
    "\n",
    "a = \"Tea and Coffee\"\n",
    "print(a.istitle())\n",
    "\n",
    "a = \"Tea And Coffee\"\n",
    "print(a.istitle())\n",
    "\n",
    "a = \"1. Tea & Coffee \\r\"\n",
    "print(a.istitle())"
   ]
  },
  {
   "cell_type": "code",
   "execution_count": 47,
   "id": "a46bcc02",
   "metadata": {},
   "outputs": [],
   "source": [
    "#isupper()"
   ]
  },
  {
   "cell_type": "code",
   "execution_count": 49,
   "id": "457489df",
   "metadata": {},
   "outputs": [
    {
     "name": "stdout",
     "output_type": "stream",
     "text": [
      "False\n",
      "False\n",
      "True\n",
      "False\n",
      "True\n",
      "False\n",
      "False\n"
     ]
    }
   ],
   "source": [
    "a = \" \"\n",
    "print(a.isupper())\n",
    "\n",
    "a = \"123\"\n",
    "print(a.isupper())\n",
    "\n",
    "a = \"_GOAT_123\"\n",
    "print(a.isupper())\n",
    "\n",
    "a = \"Fish\"\n",
    "print(a.isupper())\n",
    "\n",
    "a = \"FISH\"\n",
    "print(a.isupper())\n",
    "\n",
    "a = \"fish\"\n",
    "print(a.isupper())\n",
    "\n",
    "a = \"FISH\"\n",
    "a = a.casefold() #Force lowercase\n",
    "print(a.isupper())"
   ]
  },
  {
   "cell_type": "code",
   "execution_count": 50,
   "id": "2e16cc4d",
   "metadata": {},
   "outputs": [],
   "source": [
    "#join(iterable)"
   ]
  },
  {
   "cell_type": "code",
   "execution_count": 52,
   "id": "6bc7566f",
   "metadata": {},
   "outputs": [
    {
     "name": "stdout",
     "output_type": "stream",
     "text": [
      "1-2-3\n",
      "P.D.P\n",
      "Mr. Dave\n"
     ]
    }
   ],
   "source": [
    "a = \"-\"\n",
    "print(a.join(\"123\"))\n",
    "\n",
    "a = \".\"\n",
    "print(a.join(\"PDP\"))\n",
    "\n",
    "a = \". \"\n",
    "print(a.join((\"Mr\", \"Dave\")))"
   ]
  },
  {
   "cell_type": "code",
   "execution_count": null,
   "id": "df5f4c04",
   "metadata": {},
   "outputs": [],
   "source": []
  }
 ],
 "metadata": {
  "kernelspec": {
   "display_name": "Python 3 (ipykernel)",
   "language": "python",
   "name": "python3"
  },
  "language_info": {
   "codemirror_mode": {
    "name": "ipython",
    "version": 3
   },
   "file_extension": ".py",
   "mimetype": "text/x-python",
   "name": "python",
   "nbconvert_exporter": "python",
   "pygments_lexer": "ipython3",
   "version": "3.9.7"
  }
 },
 "nbformat": 4,
 "nbformat_minor": 5
}
